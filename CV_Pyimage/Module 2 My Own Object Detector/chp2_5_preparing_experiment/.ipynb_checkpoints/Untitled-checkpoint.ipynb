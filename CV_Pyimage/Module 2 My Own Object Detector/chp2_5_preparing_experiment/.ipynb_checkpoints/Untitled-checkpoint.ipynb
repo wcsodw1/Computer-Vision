{
 "cells": [
  {
   "cell_type": "code",
   "execution_count": 25,
   "metadata": {},
   "outputs": [],
   "source": [
    "# import the necessary packages\n",
    "from __future__ import print_function\n",
    "from pyimagesearch.utils import Conf\n",
    "from scipy import io\n",
    "import numpy as np\n",
    "import argparse\n",
    "import glob\n",
    "import sys\n",
    "\n",
    "# construct the argument parser and parse the command line arguments\n",
    "ap = argparse.ArgumentParser()\n",
    "ap.add_argument(\"-c\", \"--conf\", required=True, help=\"path to the configuration file\")\n",
    "\n",
    "sys.argv[1:] = '-c conf/cars.json'.split()\n",
    "\n",
    "args = vars(ap.parse_args())\n",
    "\n",
    "# load the configuration file and initialize the list of widths and heights\n",
    "conf = Conf(args[\"conf\"])\n",
    "widths = []\n",
    "heights = []\n",
    "\n",
    "# loop over all annotations paths\n",
    "for p in glob.glob(conf[\"image_annotations\"] + \"/*.mat\"):\n",
    "\t# load the bounding box associated with the path and update the width and height\n",
    "\t# lists\n",
    "\t(y, h, x, w) = io.loadmat(p)[\"box_coord\"][0]\n",
    "\twidths.append(w - x)\n",
    "\theights.append(h - y)"
   ]
  },
  {
   "cell_type": "code",
   "execution_count": 27,
   "metadata": {},
   "outputs": [
    {
     "name": "stdout",
     "output_type": "stream",
     "text": [
      "[INFO] avg. width: nan\n",
      "[INFO] avg. height: nan\n",
      "[INFO] aspect ratio: nan\n"
     ]
    }
   ],
   "source": [
    "# compute the average of both the width and height lists\n",
    "(avgWidth, avgHeight) = (np.mean(widths), np.mean(heights))\n",
    "print(\"[INFO] avg. width: {:.2f}\".format(avgWidth))\n",
    "print(\"[INFO] avg. height: {:.2f}\".format(avgHeight))\n",
    "print(\"[INFO] aspect ratio: {:.2f}\".format(avgWidth/ avgHeight))"
   ]
  },
  {
   "cell_type": "code",
   "execution_count": 2,
   "metadata": {},
   "outputs": [
    {
     "name": "stdout",
     "output_type": "stream",
     "text": [
      "Collecting JSON_minify\n",
      "  Using cached JSON_minify-0.3.0-py2.py3-none-any.whl (5.2 kB)\n",
      "Installing collected packages: JSON-minify\n",
      "Successfully installed JSON-minify-0.3.0\n"
     ]
    }
   ],
   "source": [
    "!pip install JSON_minify"
   ]
  },
  {
   "cell_type": "code",
   "execution_count": null,
   "metadata": {},
   "outputs": [],
   "source": []
  }
 ],
 "metadata": {
  "kernelspec": {
   "display_name": "Python 3",
   "language": "python",
   "name": "python3"
  },
  "language_info": {
   "codemirror_mode": {
    "name": "ipython",
    "version": 3
   },
   "file_extension": ".py",
   "mimetype": "text/x-python",
   "name": "python",
   "nbconvert_exporter": "python",
   "pygments_lexer": "ipython3",
   "version": "3.7.6"
  }
 },
 "nbformat": 4,
 "nbformat_minor": 4
}
